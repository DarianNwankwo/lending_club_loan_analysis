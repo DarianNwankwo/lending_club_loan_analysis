{
 "cells": [
  {
   "cell_type": "code",
   "execution_count": 1,
   "metadata": {},
   "outputs": [],
   "source": [
    "import matplotlib.pyplot as plt\n",
    "import numpy as np\n",
    "import pandas as pd\n",
    "%matplotlib inline"
   ]
  },
  {
   "cell_type": "code",
   "execution_count": 2,
   "metadata": {},
   "outputs": [],
   "source": [
    "data_paths = (\n",
    "    (\"./data/LoanStats_2018Q1.csv\", \"q1\"),\n",
    "    (\"./data/LoanStats_2018Q2.csv\", \"q2\"),\n",
    "    (\"./data/LoanStats_2018Q3.csv\", \"q3\"),\n",
    "    (\"./data/LoanStats_2018Q4.csv\", \"q4\")\n",
    ")"
   ]
  },
  {
   "cell_type": "markdown",
   "metadata": {},
   "source": [
    "## Concatenate Dataframes\n",
    "<p>Since the data is provided to us on a quarterly basis, we're going to create a dataframe for each quarter and concatenate the dataframes together. This will allows us to reference one object for all quarterly loans. We also add the column \"quarter\" so we can keep track of which loans belong to which quarter.</p>"
   ]
  },
  {
   "cell_type": "code",
   "execution_count": 3,
   "metadata": {},
   "outputs": [],
   "source": [
    "loan_stats = pd.DataFrame()\n",
    "for filename, quarter in data_paths:\n",
    "    df = pd.read_csv(filename, low_memory=False, skiprows=1)\n",
    "    df[\"quarter\"] = quarter\n",
    "    loan_stats = pd.concat([loan_stats, df], axis=0)\n"
   ]
  },
  {
   "cell_type": "code",
   "execution_count": 4,
   "metadata": {},
   "outputs": [
    {
     "data": {
      "text/html": [
       "<div>\n",
       "<style scoped>\n",
       "    .dataframe tbody tr th:only-of-type {\n",
       "        vertical-align: middle;\n",
       "    }\n",
       "\n",
       "    .dataframe tbody tr th {\n",
       "        vertical-align: top;\n",
       "    }\n",
       "\n",
       "    .dataframe thead th {\n",
       "        text-align: right;\n",
       "    }\n",
       "</style>\n",
       "<table border=\"1\" class=\"dataframe\">\n",
       "  <thead>\n",
       "    <tr style=\"text-align: right;\">\n",
       "      <th></th>\n",
       "      <th>member_id</th>\n",
       "      <th>loan_amnt</th>\n",
       "      <th>funded_amnt</th>\n",
       "      <th>funded_amnt_inv</th>\n",
       "      <th>installment</th>\n",
       "      <th>annual_inc</th>\n",
       "      <th>url</th>\n",
       "      <th>desc</th>\n",
       "      <th>dti</th>\n",
       "      <th>delinq_2yrs</th>\n",
       "      <th>...</th>\n",
       "      <th>deferral_term</th>\n",
       "      <th>hardship_amount</th>\n",
       "      <th>hardship_length</th>\n",
       "      <th>hardship_dpd</th>\n",
       "      <th>orig_projected_additional_accrued_interest</th>\n",
       "      <th>hardship_payoff_balance_amount</th>\n",
       "      <th>hardship_last_payment_amount</th>\n",
       "      <th>settlement_amount</th>\n",
       "      <th>settlement_percentage</th>\n",
       "      <th>settlement_term</th>\n",
       "    </tr>\n",
       "  </thead>\n",
       "  <tbody>\n",
       "    <tr>\n",
       "      <th>count</th>\n",
       "      <td>0.0</td>\n",
       "      <td>495242.000000</td>\n",
       "      <td>495242.000000</td>\n",
       "      <td>495242.000000</td>\n",
       "      <td>495242.000000</td>\n",
       "      <td>4.952420e+05</td>\n",
       "      <td>0.0</td>\n",
       "      <td>0.0</td>\n",
       "      <td>494110.000000</td>\n",
       "      <td>495242.000000</td>\n",
       "      <td>...</td>\n",
       "      <td>590.0</td>\n",
       "      <td>590.000000</td>\n",
       "      <td>590.0</td>\n",
       "      <td>590.000000</td>\n",
       "      <td>487.000000</td>\n",
       "      <td>590.000000</td>\n",
       "      <td>590.000000</td>\n",
       "      <td>865.000000</td>\n",
       "      <td>865.000000</td>\n",
       "      <td>865.000000</td>\n",
       "    </tr>\n",
       "    <tr>\n",
       "      <th>mean</th>\n",
       "      <td>NaN</td>\n",
       "      <td>16025.020394</td>\n",
       "      <td>16025.020394</td>\n",
       "      <td>16021.669277</td>\n",
       "      <td>466.610441</td>\n",
       "      <td>8.009399e+04</td>\n",
       "      <td>NaN</td>\n",
       "      <td>NaN</td>\n",
       "      <td>19.668887</td>\n",
       "      <td>0.229252</td>\n",
       "      <td>...</td>\n",
       "      <td>3.0</td>\n",
       "      <td>200.987254</td>\n",
       "      <td>3.0</td>\n",
       "      <td>13.581356</td>\n",
       "      <td>611.095626</td>\n",
       "      <td>15785.105085</td>\n",
       "      <td>220.900542</td>\n",
       "      <td>7103.209757</td>\n",
       "      <td>52.673815</td>\n",
       "      <td>18.124855</td>\n",
       "    </tr>\n",
       "    <tr>\n",
       "      <th>std</th>\n",
       "      <td>NaN</td>\n",
       "      <td>10138.075023</td>\n",
       "      <td>10138.075023</td>\n",
       "      <td>10137.900298</td>\n",
       "      <td>286.909339</td>\n",
       "      <td>8.887161e+04</td>\n",
       "      <td>NaN</td>\n",
       "      <td>NaN</td>\n",
       "      <td>20.458244</td>\n",
       "      <td>0.743665</td>\n",
       "      <td>...</td>\n",
       "      <td>0.0</td>\n",
       "      <td>145.553591</td>\n",
       "      <td>0.0</td>\n",
       "      <td>8.532132</td>\n",
       "      <td>430.427422</td>\n",
       "      <td>9108.061726</td>\n",
       "      <td>204.608260</td>\n",
       "      <td>4924.797674</td>\n",
       "      <td>8.818974</td>\n",
       "      <td>6.663933</td>\n",
       "    </tr>\n",
       "    <tr>\n",
       "      <th>min</th>\n",
       "      <td>NaN</td>\n",
       "      <td>1000.000000</td>\n",
       "      <td>1000.000000</td>\n",
       "      <td>725.000000</td>\n",
       "      <td>29.760000</td>\n",
       "      <td>0.000000e+00</td>\n",
       "      <td>NaN</td>\n",
       "      <td>NaN</td>\n",
       "      <td>0.000000</td>\n",
       "      <td>0.000000</td>\n",
       "      <td>...</td>\n",
       "      <td>3.0</td>\n",
       "      <td>5.950000</td>\n",
       "      <td>3.0</td>\n",
       "      <td>0.000000</td>\n",
       "      <td>31.470000</td>\n",
       "      <td>424.110000</td>\n",
       "      <td>0.070000</td>\n",
       "      <td>413.930000</td>\n",
       "      <td>29.920000</td>\n",
       "      <td>1.000000</td>\n",
       "    </tr>\n",
       "    <tr>\n",
       "      <th>25%</th>\n",
       "      <td>NaN</td>\n",
       "      <td>8000.000000</td>\n",
       "      <td>8000.000000</td>\n",
       "      <td>8000.000000</td>\n",
       "      <td>254.560000</td>\n",
       "      <td>4.600000e+04</td>\n",
       "      <td>NaN</td>\n",
       "      <td>NaN</td>\n",
       "      <td>11.430000</td>\n",
       "      <td>0.000000</td>\n",
       "      <td>...</td>\n",
       "      <td>3.0</td>\n",
       "      <td>90.240000</td>\n",
       "      <td>3.0</td>\n",
       "      <td>7.000000</td>\n",
       "      <td>277.935000</td>\n",
       "      <td>8202.280000</td>\n",
       "      <td>63.075000</td>\n",
       "      <td>3372.000000</td>\n",
       "      <td>45.000000</td>\n",
       "      <td>16.000000</td>\n",
       "    </tr>\n",
       "    <tr>\n",
       "      <th>50%</th>\n",
       "      <td>NaN</td>\n",
       "      <td>14000.000000</td>\n",
       "      <td>14000.000000</td>\n",
       "      <td>14000.000000</td>\n",
       "      <td>386.820000</td>\n",
       "      <td>6.600000e+04</td>\n",
       "      <td>NaN</td>\n",
       "      <td>NaN</td>\n",
       "      <td>17.710000</td>\n",
       "      <td>0.000000</td>\n",
       "      <td>...</td>\n",
       "      <td>3.0</td>\n",
       "      <td>170.260000</td>\n",
       "      <td>3.0</td>\n",
       "      <td>14.000000</td>\n",
       "      <td>523.170000</td>\n",
       "      <td>13891.090000</td>\n",
       "      <td>165.265000</td>\n",
       "      <td>5677.130000</td>\n",
       "      <td>50.000000</td>\n",
       "      <td>18.000000</td>\n",
       "    </tr>\n",
       "    <tr>\n",
       "      <th>75%</th>\n",
       "      <td>NaN</td>\n",
       "      <td>22000.000000</td>\n",
       "      <td>22000.000000</td>\n",
       "      <td>22000.000000</td>\n",
       "      <td>629.040000</td>\n",
       "      <td>9.600000e+04</td>\n",
       "      <td>NaN</td>\n",
       "      <td>NaN</td>\n",
       "      <td>25.030000</td>\n",
       "      <td>0.000000</td>\n",
       "      <td>...</td>\n",
       "      <td>3.0</td>\n",
       "      <td>272.995000</td>\n",
       "      <td>3.0</td>\n",
       "      <td>21.000000</td>\n",
       "      <td>824.880000</td>\n",
       "      <td>22414.395000</td>\n",
       "      <td>334.452500</td>\n",
       "      <td>9800.000000</td>\n",
       "      <td>60.000000</td>\n",
       "      <td>24.000000</td>\n",
       "    </tr>\n",
       "    <tr>\n",
       "      <th>max</th>\n",
       "      <td>NaN</td>\n",
       "      <td>40000.000000</td>\n",
       "      <td>40000.000000</td>\n",
       "      <td>40000.000000</td>\n",
       "      <td>1670.150000</td>\n",
       "      <td>9.930475e+06</td>\n",
       "      <td>NaN</td>\n",
       "      <td>NaN</td>\n",
       "      <td>999.000000</td>\n",
       "      <td>58.000000</td>\n",
       "      <td>...</td>\n",
       "      <td>3.0</td>\n",
       "      <td>876.460000</td>\n",
       "      <td>3.0</td>\n",
       "      <td>30.000000</td>\n",
       "      <td>2535.660000</td>\n",
       "      <td>40149.350000</td>\n",
       "      <td>1159.620000</td>\n",
       "      <td>28503.000000</td>\n",
       "      <td>80.000000</td>\n",
       "      <td>24.000000</td>\n",
       "    </tr>\n",
       "  </tbody>\n",
       "</table>\n",
       "<p>8 rows × 107 columns</p>\n",
       "</div>"
      ],
      "text/plain": [
       "       member_id      loan_amnt    funded_amnt  funded_amnt_inv  \\\n",
       "count        0.0  495242.000000  495242.000000    495242.000000   \n",
       "mean         NaN   16025.020394   16025.020394     16021.669277   \n",
       "std          NaN   10138.075023   10138.075023     10137.900298   \n",
       "min          NaN    1000.000000    1000.000000       725.000000   \n",
       "25%          NaN    8000.000000    8000.000000      8000.000000   \n",
       "50%          NaN   14000.000000   14000.000000     14000.000000   \n",
       "75%          NaN   22000.000000   22000.000000     22000.000000   \n",
       "max          NaN   40000.000000   40000.000000     40000.000000   \n",
       "\n",
       "         installment    annual_inc  url  desc            dti    delinq_2yrs  \\\n",
       "count  495242.000000  4.952420e+05  0.0   0.0  494110.000000  495242.000000   \n",
       "mean      466.610441  8.009399e+04  NaN   NaN      19.668887       0.229252   \n",
       "std       286.909339  8.887161e+04  NaN   NaN      20.458244       0.743665   \n",
       "min        29.760000  0.000000e+00  NaN   NaN       0.000000       0.000000   \n",
       "25%       254.560000  4.600000e+04  NaN   NaN      11.430000       0.000000   \n",
       "50%       386.820000  6.600000e+04  NaN   NaN      17.710000       0.000000   \n",
       "75%       629.040000  9.600000e+04  NaN   NaN      25.030000       0.000000   \n",
       "max      1670.150000  9.930475e+06  NaN   NaN     999.000000      58.000000   \n",
       "\n",
       "       ...  deferral_term  hardship_amount  hardship_length  hardship_dpd  \\\n",
       "count  ...          590.0       590.000000            590.0    590.000000   \n",
       "mean   ...            3.0       200.987254              3.0     13.581356   \n",
       "std    ...            0.0       145.553591              0.0      8.532132   \n",
       "min    ...            3.0         5.950000              3.0      0.000000   \n",
       "25%    ...            3.0        90.240000              3.0      7.000000   \n",
       "50%    ...            3.0       170.260000              3.0     14.000000   \n",
       "75%    ...            3.0       272.995000              3.0     21.000000   \n",
       "max    ...            3.0       876.460000              3.0     30.000000   \n",
       "\n",
       "       orig_projected_additional_accrued_interest  \\\n",
       "count                                  487.000000   \n",
       "mean                                   611.095626   \n",
       "std                                    430.427422   \n",
       "min                                     31.470000   \n",
       "25%                                    277.935000   \n",
       "50%                                    523.170000   \n",
       "75%                                    824.880000   \n",
       "max                                   2535.660000   \n",
       "\n",
       "       hardship_payoff_balance_amount  hardship_last_payment_amount  \\\n",
       "count                      590.000000                    590.000000   \n",
       "mean                     15785.105085                    220.900542   \n",
       "std                       9108.061726                    204.608260   \n",
       "min                        424.110000                      0.070000   \n",
       "25%                       8202.280000                     63.075000   \n",
       "50%                      13891.090000                    165.265000   \n",
       "75%                      22414.395000                    334.452500   \n",
       "max                      40149.350000                   1159.620000   \n",
       "\n",
       "       settlement_amount  settlement_percentage  settlement_term  \n",
       "count         865.000000             865.000000       865.000000  \n",
       "mean         7103.209757              52.673815        18.124855  \n",
       "std          4924.797674               8.818974         6.663933  \n",
       "min           413.930000              29.920000         1.000000  \n",
       "25%          3372.000000              45.000000        16.000000  \n",
       "50%          5677.130000              50.000000        18.000000  \n",
       "75%          9800.000000              60.000000        24.000000  \n",
       "max         28503.000000              80.000000        24.000000  \n",
       "\n",
       "[8 rows x 107 columns]"
      ]
     },
     "execution_count": 4,
     "metadata": {},
     "output_type": "execute_result"
    }
   ],
   "source": [
    "loan_stats.describe()"
   ]
  },
  {
   "cell_type": "code",
   "execution_count": 5,
   "metadata": {},
   "outputs": [
    {
     "data": {
      "text/plain": [
       "(495250, 145)"
      ]
     },
     "execution_count": 5,
     "metadata": {},
     "output_type": "execute_result"
    }
   ],
   "source": [
    "loan_stats.shape"
   ]
  },
  {
   "cell_type": "markdown",
   "metadata": {},
   "source": [
    "## Remove Columns with Null Data\n",
    "<p>Based on the description above, a few columns have null information in regards to the loan statistics. We are going to examine each column further to determine which columns can be removed. From our initial glance, it is evident that the member_id and url columns can be removed.</p>\n",
    "<p>In order to determine which columns will be dropped, we'll have some threshold that determines whether or not a column should be removed. This thresehold value will be in range(0, 1). If a particular column has  at least &lt;threshold&gt;% of values null, we drop the column. </p>\n",
    "<p>Additional information regarding the columns can be found <a href=\"https://www.lendingclub.com/info/download-data.action\">here</a></p>\n",
    "<p>Here, I made use of a pretty conventional split. If more than 80% of any column has null information, I drop that column</p>"
   ]
  },
  {
   "cell_type": "code",
   "execution_count": 6,
   "metadata": {},
   "outputs": [],
   "source": [
    "THRESHOLD = int(.8 * loan_stats.shape[0])\n",
    "loan_stats = loan_stats.dropna(axis=1, thresh=THRESHOLD)"
   ]
  },
  {
   "cell_type": "markdown",
   "metadata": {},
   "source": [
    "## Carved Dataframe\n",
    "<p>With the current heuristic applied, we notice that 44 columns have been dropped from our dataframe. Later on, we will explore some statistical ways of removing other columns that are not of interest.</p>"
   ]
  },
  {
   "cell_type": "code",
   "execution_count": 7,
   "metadata": {},
   "outputs": [
    {
     "data": {
      "text/plain": [
       "(495250, 102)"
      ]
     },
     "execution_count": 7,
     "metadata": {},
     "output_type": "execute_result"
    }
   ],
   "source": [
    "loan_stats.shape"
   ]
  },
  {
   "cell_type": "code",
   "execution_count": 8,
   "metadata": {},
   "outputs": [
    {
     "data": {
      "text/html": [
       "<div>\n",
       "<style scoped>\n",
       "    .dataframe tbody tr th:only-of-type {\n",
       "        vertical-align: middle;\n",
       "    }\n",
       "\n",
       "    .dataframe tbody tr th {\n",
       "        vertical-align: top;\n",
       "    }\n",
       "\n",
       "    .dataframe thead th {\n",
       "        text-align: right;\n",
       "    }\n",
       "</style>\n",
       "<table border=\"1\" class=\"dataframe\">\n",
       "  <thead>\n",
       "    <tr style=\"text-align: right;\">\n",
       "      <th></th>\n",
       "      <th>loan_amnt</th>\n",
       "      <th>funded_amnt</th>\n",
       "      <th>funded_amnt_inv</th>\n",
       "      <th>installment</th>\n",
       "      <th>annual_inc</th>\n",
       "      <th>dti</th>\n",
       "      <th>delinq_2yrs</th>\n",
       "      <th>inq_last_6mths</th>\n",
       "      <th>open_acc</th>\n",
       "      <th>pub_rec</th>\n",
       "      <th>...</th>\n",
       "      <th>num_tl_90g_dpd_24m</th>\n",
       "      <th>num_tl_op_past_12m</th>\n",
       "      <th>pct_tl_nvr_dlq</th>\n",
       "      <th>percent_bc_gt_75</th>\n",
       "      <th>pub_rec_bankruptcies</th>\n",
       "      <th>tax_liens</th>\n",
       "      <th>tot_hi_cred_lim</th>\n",
       "      <th>total_bal_ex_mort</th>\n",
       "      <th>total_bc_limit</th>\n",
       "      <th>total_il_high_credit_limit</th>\n",
       "    </tr>\n",
       "  </thead>\n",
       "  <tbody>\n",
       "    <tr>\n",
       "      <th>count</th>\n",
       "      <td>495242.000000</td>\n",
       "      <td>495242.000000</td>\n",
       "      <td>495242.000000</td>\n",
       "      <td>495242.000000</td>\n",
       "      <td>4.952420e+05</td>\n",
       "      <td>494110.000000</td>\n",
       "      <td>495242.000000</td>\n",
       "      <td>495242.000000</td>\n",
       "      <td>495242.000000</td>\n",
       "      <td>495242.000000</td>\n",
       "      <td>...</td>\n",
       "      <td>495242.000000</td>\n",
       "      <td>495242.000000</td>\n",
       "      <td>495240.000000</td>\n",
       "      <td>488646.000000</td>\n",
       "      <td>495242.000000</td>\n",
       "      <td>495242.000000</td>\n",
       "      <td>4.952420e+05</td>\n",
       "      <td>4.952420e+05</td>\n",
       "      <td>4.952420e+05</td>\n",
       "      <td>4.952420e+05</td>\n",
       "    </tr>\n",
       "    <tr>\n",
       "      <th>mean</th>\n",
       "      <td>16025.020394</td>\n",
       "      <td>16025.020394</td>\n",
       "      <td>16021.669277</td>\n",
       "      <td>466.610441</td>\n",
       "      <td>8.009399e+04</td>\n",
       "      <td>19.668887</td>\n",
       "      <td>0.229252</td>\n",
       "      <td>0.442192</td>\n",
       "      <td>11.491554</td>\n",
       "      <td>0.134514</td>\n",
       "      <td>...</td>\n",
       "      <td>0.059932</td>\n",
       "      <td>2.030478</td>\n",
       "      <td>94.580900</td>\n",
       "      <td>32.891971</td>\n",
       "      <td>0.123489</td>\n",
       "      <td>0.010918</td>\n",
       "      <td>1.849417e+05</td>\n",
       "      <td>5.192192e+04</td>\n",
       "      <td>2.667946e+04</td>\n",
       "      <td>4.568810e+04</td>\n",
       "    </tr>\n",
       "    <tr>\n",
       "      <th>std</th>\n",
       "      <td>10138.075023</td>\n",
       "      <td>10138.075023</td>\n",
       "      <td>10137.900298</td>\n",
       "      <td>286.909339</td>\n",
       "      <td>8.887161e+04</td>\n",
       "      <td>20.458244</td>\n",
       "      <td>0.743665</td>\n",
       "      <td>0.724613</td>\n",
       "      <td>5.947129</td>\n",
       "      <td>0.384829</td>\n",
       "      <td>...</td>\n",
       "      <td>0.420412</td>\n",
       "      <td>1.890030</td>\n",
       "      <td>9.092862</td>\n",
       "      <td>35.015405</td>\n",
       "      <td>0.335296</td>\n",
       "      <td>0.182740</td>\n",
       "      <td>1.886940e+05</td>\n",
       "      <td>5.339667e+04</td>\n",
       "      <td>2.582489e+04</td>\n",
       "      <td>4.797206e+04</td>\n",
       "    </tr>\n",
       "    <tr>\n",
       "      <th>min</th>\n",
       "      <td>1000.000000</td>\n",
       "      <td>1000.000000</td>\n",
       "      <td>725.000000</td>\n",
       "      <td>29.760000</td>\n",
       "      <td>0.000000e+00</td>\n",
       "      <td>0.000000</td>\n",
       "      <td>0.000000</td>\n",
       "      <td>0.000000</td>\n",
       "      <td>0.000000</td>\n",
       "      <td>0.000000</td>\n",
       "      <td>...</td>\n",
       "      <td>0.000000</td>\n",
       "      <td>0.000000</td>\n",
       "      <td>0.000000</td>\n",
       "      <td>0.000000</td>\n",
       "      <td>0.000000</td>\n",
       "      <td>0.000000</td>\n",
       "      <td>0.000000e+00</td>\n",
       "      <td>0.000000e+00</td>\n",
       "      <td>0.000000e+00</td>\n",
       "      <td>0.000000e+00</td>\n",
       "    </tr>\n",
       "    <tr>\n",
       "      <th>25%</th>\n",
       "      <td>8000.000000</td>\n",
       "      <td>8000.000000</td>\n",
       "      <td>8000.000000</td>\n",
       "      <td>254.560000</td>\n",
       "      <td>4.600000e+04</td>\n",
       "      <td>11.430000</td>\n",
       "      <td>0.000000</td>\n",
       "      <td>0.000000</td>\n",
       "      <td>7.000000</td>\n",
       "      <td>0.000000</td>\n",
       "      <td>...</td>\n",
       "      <td>0.000000</td>\n",
       "      <td>1.000000</td>\n",
       "      <td>92.300000</td>\n",
       "      <td>0.000000</td>\n",
       "      <td>0.000000</td>\n",
       "      <td>0.000000</td>\n",
       "      <td>5.205900e+04</td>\n",
       "      <td>1.953000e+04</td>\n",
       "      <td>9.800000e+03</td>\n",
       "      <td>1.492600e+04</td>\n",
       "    </tr>\n",
       "    <tr>\n",
       "      <th>50%</th>\n",
       "      <td>14000.000000</td>\n",
       "      <td>14000.000000</td>\n",
       "      <td>14000.000000</td>\n",
       "      <td>386.820000</td>\n",
       "      <td>6.600000e+04</td>\n",
       "      <td>17.710000</td>\n",
       "      <td>0.000000</td>\n",
       "      <td>0.000000</td>\n",
       "      <td>10.000000</td>\n",
       "      <td>0.000000</td>\n",
       "      <td>...</td>\n",
       "      <td>0.000000</td>\n",
       "      <td>2.000000</td>\n",
       "      <td>100.000000</td>\n",
       "      <td>25.000000</td>\n",
       "      <td>0.000000</td>\n",
       "      <td>0.000000</td>\n",
       "      <td>1.162925e+05</td>\n",
       "      <td>3.755600e+04</td>\n",
       "      <td>1.920000e+04</td>\n",
       "      <td>3.375400e+04</td>\n",
       "    </tr>\n",
       "    <tr>\n",
       "      <th>75%</th>\n",
       "      <td>22000.000000</td>\n",
       "      <td>22000.000000</td>\n",
       "      <td>22000.000000</td>\n",
       "      <td>629.040000</td>\n",
       "      <td>9.600000e+04</td>\n",
       "      <td>25.030000</td>\n",
       "      <td>0.000000</td>\n",
       "      <td>1.000000</td>\n",
       "      <td>14.000000</td>\n",
       "      <td>0.000000</td>\n",
       "      <td>...</td>\n",
       "      <td>0.000000</td>\n",
       "      <td>3.000000</td>\n",
       "      <td>100.000000</td>\n",
       "      <td>57.100000</td>\n",
       "      <td>0.000000</td>\n",
       "      <td>0.000000</td>\n",
       "      <td>2.692915e+05</td>\n",
       "      <td>6.611900e+04</td>\n",
       "      <td>3.520000e+04</td>\n",
       "      <td>6.191400e+04</td>\n",
       "    </tr>\n",
       "    <tr>\n",
       "      <th>max</th>\n",
       "      <td>40000.000000</td>\n",
       "      <td>40000.000000</td>\n",
       "      <td>40000.000000</td>\n",
       "      <td>1670.150000</td>\n",
       "      <td>9.930475e+06</td>\n",
       "      <td>999.000000</td>\n",
       "      <td>58.000000</td>\n",
       "      <td>5.000000</td>\n",
       "      <td>101.000000</td>\n",
       "      <td>52.000000</td>\n",
       "      <td>...</td>\n",
       "      <td>58.000000</td>\n",
       "      <td>26.000000</td>\n",
       "      <td>100.000000</td>\n",
       "      <td>100.000000</td>\n",
       "      <td>7.000000</td>\n",
       "      <td>52.000000</td>\n",
       "      <td>9.999999e+06</td>\n",
       "      <td>2.622906e+06</td>\n",
       "      <td>1.569000e+06</td>\n",
       "      <td>2.118996e+06</td>\n",
       "    </tr>\n",
       "  </tbody>\n",
       "</table>\n",
       "<p>8 rows × 77 columns</p>\n",
       "</div>"
      ],
      "text/plain": [
       "           loan_amnt    funded_amnt  funded_amnt_inv    installment  \\\n",
       "count  495242.000000  495242.000000    495242.000000  495242.000000   \n",
       "mean    16025.020394   16025.020394     16021.669277     466.610441   \n",
       "std     10138.075023   10138.075023     10137.900298     286.909339   \n",
       "min      1000.000000    1000.000000       725.000000      29.760000   \n",
       "25%      8000.000000    8000.000000      8000.000000     254.560000   \n",
       "50%     14000.000000   14000.000000     14000.000000     386.820000   \n",
       "75%     22000.000000   22000.000000     22000.000000     629.040000   \n",
       "max     40000.000000   40000.000000     40000.000000    1670.150000   \n",
       "\n",
       "         annual_inc            dti    delinq_2yrs  inq_last_6mths  \\\n",
       "count  4.952420e+05  494110.000000  495242.000000   495242.000000   \n",
       "mean   8.009399e+04      19.668887       0.229252        0.442192   \n",
       "std    8.887161e+04      20.458244       0.743665        0.724613   \n",
       "min    0.000000e+00       0.000000       0.000000        0.000000   \n",
       "25%    4.600000e+04      11.430000       0.000000        0.000000   \n",
       "50%    6.600000e+04      17.710000       0.000000        0.000000   \n",
       "75%    9.600000e+04      25.030000       0.000000        1.000000   \n",
       "max    9.930475e+06     999.000000      58.000000        5.000000   \n",
       "\n",
       "            open_acc        pub_rec  ...  num_tl_90g_dpd_24m  \\\n",
       "count  495242.000000  495242.000000  ...       495242.000000   \n",
       "mean       11.491554       0.134514  ...            0.059932   \n",
       "std         5.947129       0.384829  ...            0.420412   \n",
       "min         0.000000       0.000000  ...            0.000000   \n",
       "25%         7.000000       0.000000  ...            0.000000   \n",
       "50%        10.000000       0.000000  ...            0.000000   \n",
       "75%        14.000000       0.000000  ...            0.000000   \n",
       "max       101.000000      52.000000  ...           58.000000   \n",
       "\n",
       "       num_tl_op_past_12m  pct_tl_nvr_dlq  percent_bc_gt_75  \\\n",
       "count       495242.000000   495240.000000     488646.000000   \n",
       "mean             2.030478       94.580900         32.891971   \n",
       "std              1.890030        9.092862         35.015405   \n",
       "min              0.000000        0.000000          0.000000   \n",
       "25%              1.000000       92.300000          0.000000   \n",
       "50%              2.000000      100.000000         25.000000   \n",
       "75%              3.000000      100.000000         57.100000   \n",
       "max             26.000000      100.000000        100.000000   \n",
       "\n",
       "       pub_rec_bankruptcies      tax_liens  tot_hi_cred_lim  \\\n",
       "count         495242.000000  495242.000000     4.952420e+05   \n",
       "mean               0.123489       0.010918     1.849417e+05   \n",
       "std                0.335296       0.182740     1.886940e+05   \n",
       "min                0.000000       0.000000     0.000000e+00   \n",
       "25%                0.000000       0.000000     5.205900e+04   \n",
       "50%                0.000000       0.000000     1.162925e+05   \n",
       "75%                0.000000       0.000000     2.692915e+05   \n",
       "max                7.000000      52.000000     9.999999e+06   \n",
       "\n",
       "       total_bal_ex_mort  total_bc_limit  total_il_high_credit_limit  \n",
       "count       4.952420e+05    4.952420e+05                4.952420e+05  \n",
       "mean        5.192192e+04    2.667946e+04                4.568810e+04  \n",
       "std         5.339667e+04    2.582489e+04                4.797206e+04  \n",
       "min         0.000000e+00    0.000000e+00                0.000000e+00  \n",
       "25%         1.953000e+04    9.800000e+03                1.492600e+04  \n",
       "50%         3.755600e+04    1.920000e+04                3.375400e+04  \n",
       "75%         6.611900e+04    3.520000e+04                6.191400e+04  \n",
       "max         2.622906e+06    1.569000e+06                2.118996e+06  \n",
       "\n",
       "[8 rows x 77 columns]"
      ]
     },
     "execution_count": 8,
     "metadata": {},
     "output_type": "execute_result"
    }
   ],
   "source": [
    "loan_stats.describe()"
   ]
  },
  {
   "cell_type": "markdown",
   "metadata": {},
   "source": [
    "## Fully Paid Loans...a.k.a PAID IN FULL :)\n",
    "<img src=\"./img/mitch.jpeg\">\n",
    "<p>Now I'd like to see what some of the characteristic of paid off loans have in common. If the image above doesn't stand out to you, please do me a favor and watch the movie \"Paid In Full.\" Any ways, with the help of Money Makin' Mitch and some good ole Python, we are going to separate from our data the loans that have been paid in full.</p>\n",
    "<p>Keep in mind the dataframe for the loans that have been fully paid are fully paid! Thus, we can drop the loan_status column from our dataframe. I also noticed that the loans that have been paid in full have equivalent values for loan_amnt and funded_amnt, therefore one of the columns may be dropped as well.</p>\n",
    "<p>Now we want to do some data pre-processing and change some of our data so that it is in a format that is conducive for our purposes.</p>\n"
   ]
  },
  {
   "cell_type": "code",
   "execution_count": 9,
   "metadata": {},
   "outputs": [],
   "source": [
    "paid_in_full = loan_stats[loan_stats[\"loan_status\"] == \"Fully Paid\"] # .drop(drop_from_paid, axis=\"columns\")"
   ]
  },
  {
   "cell_type": "code",
   "execution_count": 10,
   "metadata": {},
   "outputs": [
    {
     "data": {
      "text/html": [
       "<div>\n",
       "<style scoped>\n",
       "    .dataframe tbody tr th:only-of-type {\n",
       "        vertical-align: middle;\n",
       "    }\n",
       "\n",
       "    .dataframe tbody tr th {\n",
       "        vertical-align: top;\n",
       "    }\n",
       "\n",
       "    .dataframe thead th {\n",
       "        text-align: right;\n",
       "    }\n",
       "</style>\n",
       "<table border=\"1\" class=\"dataframe\">\n",
       "  <thead>\n",
       "    <tr style=\"text-align: right;\">\n",
       "      <th></th>\n",
       "      <th>loan_amnt</th>\n",
       "      <th>funded_amnt</th>\n",
       "      <th>funded_amnt_inv</th>\n",
       "      <th>term</th>\n",
       "      <th>int_rate</th>\n",
       "      <th>installment</th>\n",
       "      <th>grade</th>\n",
       "      <th>sub_grade</th>\n",
       "      <th>emp_title</th>\n",
       "      <th>emp_length</th>\n",
       "      <th>...</th>\n",
       "      <th>percent_bc_gt_75</th>\n",
       "      <th>pub_rec_bankruptcies</th>\n",
       "      <th>tax_liens</th>\n",
       "      <th>tot_hi_cred_lim</th>\n",
       "      <th>total_bal_ex_mort</th>\n",
       "      <th>total_bc_limit</th>\n",
       "      <th>total_il_high_credit_limit</th>\n",
       "      <th>hardship_flag</th>\n",
       "      <th>debt_settlement_flag</th>\n",
       "      <th>quarter</th>\n",
       "    </tr>\n",
       "  </thead>\n",
       "  <tbody>\n",
       "    <tr>\n",
       "      <th>5</th>\n",
       "      <td>3000.0</td>\n",
       "      <td>3000.0</td>\n",
       "      <td>3000.0</td>\n",
       "      <td>36 months</td>\n",
       "      <td>7.34%</td>\n",
       "      <td>93.10</td>\n",
       "      <td>A</td>\n",
       "      <td>A4</td>\n",
       "      <td>Scale Technician</td>\n",
       "      <td>9 years</td>\n",
       "      <td>...</td>\n",
       "      <td>0.0</td>\n",
       "      <td>0.0</td>\n",
       "      <td>0.0</td>\n",
       "      <td>191216.0</td>\n",
       "      <td>141.0</td>\n",
       "      <td>30500.0</td>\n",
       "      <td>0.0</td>\n",
       "      <td>N</td>\n",
       "      <td>N</td>\n",
       "      <td>q1</td>\n",
       "    </tr>\n",
       "    <tr>\n",
       "      <th>14</th>\n",
       "      <td>5000.0</td>\n",
       "      <td>5000.0</td>\n",
       "      <td>5000.0</td>\n",
       "      <td>36 months</td>\n",
       "      <td>11.98%</td>\n",
       "      <td>166.03</td>\n",
       "      <td>B</td>\n",
       "      <td>B5</td>\n",
       "      <td>SDO Supervisor</td>\n",
       "      <td>10+ years</td>\n",
       "      <td>...</td>\n",
       "      <td>33.3</td>\n",
       "      <td>1.0</td>\n",
       "      <td>0.0</td>\n",
       "      <td>61551.0</td>\n",
       "      <td>28880.0</td>\n",
       "      <td>22000.0</td>\n",
       "      <td>27751.0</td>\n",
       "      <td>N</td>\n",
       "      <td>N</td>\n",
       "      <td>q1</td>\n",
       "    </tr>\n",
       "    <tr>\n",
       "      <th>28</th>\n",
       "      <td>7000.0</td>\n",
       "      <td>7000.0</td>\n",
       "      <td>7000.0</td>\n",
       "      <td>36 months</td>\n",
       "      <td>11.98%</td>\n",
       "      <td>232.44</td>\n",
       "      <td>B</td>\n",
       "      <td>B5</td>\n",
       "      <td>Parole</td>\n",
       "      <td>&lt; 1 year</td>\n",
       "      <td>...</td>\n",
       "      <td>33.3</td>\n",
       "      <td>0.0</td>\n",
       "      <td>0.0</td>\n",
       "      <td>132817.0</td>\n",
       "      <td>131726.0</td>\n",
       "      <td>10000.0</td>\n",
       "      <td>118917.0</td>\n",
       "      <td>N</td>\n",
       "      <td>N</td>\n",
       "      <td>q1</td>\n",
       "    </tr>\n",
       "    <tr>\n",
       "      <th>34</th>\n",
       "      <td>10000.0</td>\n",
       "      <td>10000.0</td>\n",
       "      <td>10000.0</td>\n",
       "      <td>36 months</td>\n",
       "      <td>10.90%</td>\n",
       "      <td>326.92</td>\n",
       "      <td>B</td>\n",
       "      <td>B4</td>\n",
       "      <td>Police Service Specialist</td>\n",
       "      <td>&lt; 1 year</td>\n",
       "      <td>...</td>\n",
       "      <td>0.0</td>\n",
       "      <td>1.0</td>\n",
       "      <td>0.0</td>\n",
       "      <td>72124.0</td>\n",
       "      <td>74220.0</td>\n",
       "      <td>2300.0</td>\n",
       "      <td>67724.0</td>\n",
       "      <td>N</td>\n",
       "      <td>N</td>\n",
       "      <td>q1</td>\n",
       "    </tr>\n",
       "    <tr>\n",
       "      <th>39</th>\n",
       "      <td>28000.0</td>\n",
       "      <td>28000.0</td>\n",
       "      <td>28000.0</td>\n",
       "      <td>36 months</td>\n",
       "      <td>10.90%</td>\n",
       "      <td>915.36</td>\n",
       "      <td>B</td>\n",
       "      <td>B4</td>\n",
       "      <td>Corporate Ergonomist</td>\n",
       "      <td>6 years</td>\n",
       "      <td>...</td>\n",
       "      <td>11.1</td>\n",
       "      <td>0.0</td>\n",
       "      <td>0.0</td>\n",
       "      <td>153679.0</td>\n",
       "      <td>76475.0</td>\n",
       "      <td>80300.0</td>\n",
       "      <td>73379.0</td>\n",
       "      <td>N</td>\n",
       "      <td>N</td>\n",
       "      <td>q1</td>\n",
       "    </tr>\n",
       "  </tbody>\n",
       "</table>\n",
       "<p>5 rows × 102 columns</p>\n",
       "</div>"
      ],
      "text/plain": [
       "    loan_amnt  funded_amnt  funded_amnt_inv        term int_rate  installment  \\\n",
       "5      3000.0       3000.0           3000.0   36 months    7.34%        93.10   \n",
       "14     5000.0       5000.0           5000.0   36 months   11.98%       166.03   \n",
       "28     7000.0       7000.0           7000.0   36 months   11.98%       232.44   \n",
       "34    10000.0      10000.0          10000.0   36 months   10.90%       326.92   \n",
       "39    28000.0      28000.0          28000.0   36 months   10.90%       915.36   \n",
       "\n",
       "   grade sub_grade                  emp_title emp_length  ...  \\\n",
       "5      A        A4           Scale Technician    9 years  ...   \n",
       "14     B        B5             SDO Supervisor  10+ years  ...   \n",
       "28     B        B5                     Parole   < 1 year  ...   \n",
       "34     B        B4  Police Service Specialist   < 1 year  ...   \n",
       "39     B        B4       Corporate Ergonomist    6 years  ...   \n",
       "\n",
       "   percent_bc_gt_75  pub_rec_bankruptcies tax_liens tot_hi_cred_lim  \\\n",
       "5               0.0                   0.0       0.0        191216.0   \n",
       "14             33.3                   1.0       0.0         61551.0   \n",
       "28             33.3                   0.0       0.0        132817.0   \n",
       "34              0.0                   1.0       0.0         72124.0   \n",
       "39             11.1                   0.0       0.0        153679.0   \n",
       "\n",
       "   total_bal_ex_mort total_bc_limit total_il_high_credit_limit hardship_flag  \\\n",
       "5              141.0        30500.0                        0.0             N   \n",
       "14           28880.0        22000.0                    27751.0             N   \n",
       "28          131726.0        10000.0                   118917.0             N   \n",
       "34           74220.0         2300.0                    67724.0             N   \n",
       "39           76475.0        80300.0                    73379.0             N   \n",
       "\n",
       "   debt_settlement_flag quarter  \n",
       "5                     N      q1  \n",
       "14                    N      q1  \n",
       "28                    N      q1  \n",
       "34                    N      q1  \n",
       "39                    N      q1  \n",
       "\n",
       "[5 rows x 102 columns]"
      ]
     },
     "execution_count": 10,
     "metadata": {},
     "output_type": "execute_result"
    }
   ],
   "source": [
    "paid_in_full.head()"
   ]
  },
  {
   "cell_type": "markdown",
   "metadata": {},
   "source": [
    "## Data Pre-Processing: Scrub-A-Dub-Dub\n",
    "### A Few Objectives\n",
    "<ol>\n",
    "    <li>\n",
    "        The first column that stands out to me is the term column. All values are either 36 months or 60 months, so this is a column with binary attributes. I first considered changing the column name from `term` to `is_36_months` and associating the value of 1 or 0 with each row. Instead, I think I'll just remove the string \"months\" from each row and convert that column into an integer.\n",
    "    </li>\n",
    "    <li>\n",
    "        Interest rate (`int_rate`) is stored as a decimal with the percentage sign after it. This is redundant and causes our column to reflect that of the string data type. Let's replace every `%` with an empty string, convert the remainder of the string to a float, then divide by 100 to get the equivalent percent. We will also ensure that the precision of the percentage is up to the ten thousandths.\n",
    "    </li>\n",
    "    <li>\n",
    "        The annual income (`annual_inc`) column needs to be explored further. Let's consider grouping values within a particular range together. This will reduce the number of unique values for this column.\n",
    "    </li>\n",
    "    <li>\n",
    "        The `verification_status` column needs a little bit more exploring. The values `Source Verified` and `Verified` seem to mean the same to me.\n",
    "    </li>\n",
    "    <li>\n",
    "        We can rename the `issue_d` column to `issue_date` to be a little more explicit in our naming. I'd also consider adding a year column, if not already present, to our dataframe in the event we want to merge multiple years of data together.\n",
    "    </li>\n",
    "    <li>\n",
    "        For loans that have been paid in full, there appears to be no payment plan in place and the entire column has the exact same value. We will drop this column (`pymnt_plan`) from our dataframe.\n",
    "    </li>\n",
    "    <li>\n",
    "        Title and purpose both have the exact same values, but since I like the name `purpose` more than I like `title` and I like the representation of information in `title` better than that of `purpose`, I am going to drop the `purpose` column and rename the `title` column `purpose`. The only minor difference is that the purpose column has loan information about 2 instances of a wedding. So, maybe explore how you would want to go about removing this redundant data.\n",
    "    </li>\n",
    "    <li>\n",
    "        <strike>We keep the `zip_code` column and potentially explore graphing with geolocation data.</strike>\n",
    "    </li>\n",
    "    <li>\n",
    "        After looking at the `addr_state` column, I've decided to rid myself of the `zip_code` column.\n",
    "    </li>\n",
    "    <li>\n",
    "        Not entirely sure what `dti` informs me of, so I'll leave it alone.\n",
    "    </li>\n",
    "    <li>\n",
    "        I am going to convert `earliest_cr_line` into years instead of month-year pairs.\n",
    "    </li>\n",
    "    <li>\n",
    "        Remove `out_prncp`, `policy_code`, `acc_now_delinq`, `num_tl_120dpd_2m`, `num_tl_30dpd` and `out_prncp_inv` since they are all/mostly the same\n",
    "    </li>\n",
    "    <li>\n",
    "        Remove `next_pymnt_d` since all loans that are paid off have no next payment date.\n",
    "    </li>\n",
    "</ol>"
   ]
  },
  {
   "cell_type": "markdown",
   "metadata": {},
   "source": [
    "## Objective #1\n",
    "<p>The first column that stands out to me is the term column. All values are either 36 months or 60 months, so this is a column with binary attributes. I first considered changing the column name from `term` to `is_36_months` and associating the value of 1 or 0 with each row. Instead, I think I'll just remove the string \"months\" from each row and convert that column into an integer.</p>"
   ]
  },
  {
   "cell_type": "code",
   "execution_count": 11,
   "metadata": {},
   "outputs": [
    {
     "name": "stderr",
     "output_type": "stream",
     "text": [
      "/anaconda3/lib/python3.7/site-packages/ipykernel_launcher.py:6: SettingWithCopyWarning: \n",
      "A value is trying to be set on a copy of a slice from a DataFrame.\n",
      "Try using .loc[row_indexer,col_indexer] = value instead\n",
      "\n",
      "See the caveats in the documentation: http://pandas.pydata.org/pandas-docs/stable/indexing.html#indexing-view-versus-copy\n",
      "  \n"
     ]
    }
   ],
   "source": [
    "def clean_term(element):\n",
    "    element = str(element).replace(\"months\", \"\")\n",
    "    element = int(element)\n",
    "    return element\n",
    "\n",
    "paid_in_full[\"term\"] = paid_in_full[\"term\"].apply(clean_term)"
   ]
  },
  {
   "cell_type": "markdown",
   "metadata": {},
   "source": [
    "## Objective #2\n",
    "<p>Interest rate (`int_rate`) is stored as a decimal with the percentage sign after it. This is redundant and causes our column to reflect that of the string data type. Let's replace every `%` with an empty string, convert the remainder of the string to a float, then divide by 100 to get the equivalent percent. We will also ensure that the precision of the percentage is up to the ten thousandths.</p>"
   ]
  },
  {
   "cell_type": "code",
   "execution_count": 12,
   "metadata": {},
   "outputs": [
    {
     "name": "stderr",
     "output_type": "stream",
     "text": [
      "/anaconda3/lib/python3.7/site-packages/ipykernel_launcher.py:6: SettingWithCopyWarning: \n",
      "A value is trying to be set on a copy of a slice from a DataFrame.\n",
      "Try using .loc[row_indexer,col_indexer] = value instead\n",
      "\n",
      "See the caveats in the documentation: http://pandas.pydata.org/pandas-docs/stable/indexing.html#indexing-view-versus-copy\n",
      "  \n"
     ]
    }
   ],
   "source": [
    "def clean_int_rate(element):\n",
    "    element = str(element).replace(\"%\", \"\")\n",
    "    element = float(element) / 100\n",
    "    return element\n",
    "\n",
    "paid_in_full[\"int_rate\"] = paid_in_full[\"int_rate\"].apply(clean_int_rate)"
   ]
  },
  {
   "cell_type": "markdown",
   "metadata": {},
   "source": [
    "## Objective #3\n",
    "<p>The annual income (`annual_inc`) column needs to be explored further. Let's consider grouping values within a particular range together. This will reduce the number of unique values for this column.</p>"
   ]
  },
  {
   "cell_type": "code",
   "execution_count": 13,
   "metadata": {},
   "outputs": [],
   "source": [
    "def categorize_annual_income(element):\n",
    "    if element < 0:\n",
    "        pass\n",
    "    elif element < 20_000:\n",
    "        return \"poverty\"\n",
    "    elif element < 45_000:\n",
    "        return \"lower_class\"\n",
    "    elif element < 140_000:\n",
    "        return \"middle_class\"\n",
    "    elif element < 150_000:\n",
    "        return \"upper_middle_class\"\n",
    "    elif element < 200_000:\n",
    "        return \"upper_class\"\n",
    "    else:\n",
    "        return \"hgihest_tax_brackets\"\n",
    "\n",
    "paid_in_full = paid_in_full.rename(columns={\"annual_inc\": \"income_class\"})\n",
    "paid_in_full[\"income_class\"] = paid_in_full[\"income_class\"].apply(categorize_annual_income)"
   ]
  },
  {
   "cell_type": "markdown",
   "metadata": {},
   "source": [
    "### The Middle Class Loan Warriors\n",
    "<p>Turns out that people whose annual income classifies them as the middle class take out more loans than any other group of people combined.</p>"
   ]
  },
  {
   "cell_type": "code",
   "execution_count": 14,
   "metadata": {},
   "outputs": [
    {
     "data": {
      "text/plain": [
       "middle_class            43186\n",
       "lower_class             11704\n",
       "upper_class              2918\n",
       "hgihest_tax_brackets     2058\n",
       "poverty                  1270\n",
       "upper_middle_class       1049\n",
       "Name: income_class, dtype: int64"
      ]
     },
     "execution_count": 14,
     "metadata": {},
     "output_type": "execute_result"
    }
   ],
   "source": [
    "paid_in_full[\"income_class\"].value_counts()"
   ]
  },
  {
   "cell_type": "markdown",
   "metadata": {},
   "source": [
    "## Objective #4\n",
    "<p>The `verification_status` column needs a little bit more exploring. The values `Source Verified` and `Verified` seem to mean the same to me.</p>\n",
    "<p>Still not quite sure what to do with this column. We'll see what happens to this column when we explore feature engineering and extract the most relevant features.</p>"
   ]
  },
  {
   "cell_type": "markdown",
   "metadata": {},
   "source": [
    "## Objective #5\n",
    "<p>We can rename the `issue_d` column to `issue_date` to be a little more explicit in our naming. I'd also consider adding a year column, if not already present, to our dataframe in the event we want to merge multiple years of data together.</p>"
   ]
  },
  {
   "cell_type": "code",
   "execution_count": 15,
   "metadata": {},
   "outputs": [],
   "source": [
    "paid_in_full = paid_in_full.rename(columns={\"issue_d\": \"issue_date\"})"
   ]
  },
  {
   "cell_type": "markdown",
   "metadata": {},
   "source": [
    "## Objective #6\n",
    "<p>For loans that have been paid in full, there appears to be no payment plan in place and the entire column has the exact same value. We will drop this column (`pymnt_plan`) from our dataframe.</p>"
   ]
  },
  {
   "cell_type": "code",
   "execution_count": 16,
   "metadata": {},
   "outputs": [
    {
     "name": "stdout",
     "output_type": "stream",
     "text": [
      "(62185, 101)\n"
     ]
    }
   ],
   "source": [
    "paid_in_full = paid_in_full.drop(\"pymnt_plan\", axis=1)\n",
    "print(paid_in_full.shape)"
   ]
  },
  {
   "cell_type": "markdown",
   "metadata": {},
   "source": [
    "## Objective #7\n",
    "<p>Title and purpose both have the exact same values, but since I like the name `purpose` more than I like `title` and I like the representation of information in `title` better than that of `purpose`, I am going to drop the `purpose` column and rename the `title` column `purpose`. The only minor difference is that the purpose column has loan information about 2 instances of a wedding. So, maybe explore how you would want to go about removing this redundant data.</p>"
   ]
  },
  {
   "cell_type": "code",
   "execution_count": 17,
   "metadata": {},
   "outputs": [],
   "source": [
    "paid_in_full = paid_in_full.drop(\"purpose\", axis=1).rename(columns={\"title\": \"purpose\"})"
   ]
  },
  {
   "cell_type": "markdown",
   "metadata": {},
   "source": [
    "## Objective #9\n",
    "<p>After looking at the `addr_state` column, I've decided to rid myself of the `zip_code` column.</p>"
   ]
  },
  {
   "cell_type": "code",
   "execution_count": 18,
   "metadata": {},
   "outputs": [],
   "source": [
    "paid_in_full = paid_in_full.drop(\"zip_code\", axis=1)"
   ]
  },
  {
   "cell_type": "markdown",
   "metadata": {},
   "source": [
    "## Objective #11\n",
    "<p>I am going to convert `earliest_cr_line` into years instead of month-year pairs.</p>"
   ]
  },
  {
   "cell_type": "code",
   "execution_count": 19,
   "metadata": {},
   "outputs": [],
   "source": [
    "year_pattern = r\"(?P<earliest_cr_line_year>[1-2][0-9]{3})\"\n",
    "# paid_in_full\n",
    "paid_in_full[\"earliest_cr_line\"] = paid_in_full[\"earliest_cr_line\"].str.extract(year_pattern)[\"earliest_cr_line_year\"]\n",
    "paid_in_full = paid_in_full.rename(columns={\"earliest_cr_line\": \"earliest_cr_line_year\"})"
   ]
  },
  {
   "cell_type": "code",
   "execution_count": 20,
   "metadata": {},
   "outputs": [
    {
     "data": {
      "text/plain": [
       "count     62185\n",
       "unique       61\n",
       "top        2005\n",
       "freq       5072\n",
       "Name: earliest_cr_line_year, dtype: object"
      ]
     },
     "execution_count": 20,
     "metadata": {},
     "output_type": "execute_result"
    }
   ],
   "source": [
    "paid_in_full[\"earliest_cr_line_year\"].describe()"
   ]
  },
  {
   "cell_type": "markdown",
   "metadata": {},
   "source": [
    "## Objective #12\n",
    "<p>Remove `out_prncp`, `policy_code`, `acc_now_delinq`, `num_tl_120dpd_2m`, `num_tl_30dpd` and `out_prncp_inv` since they are all/mostly the same</p>"
   ]
  },
  {
   "cell_type": "code",
   "execution_count": 21,
   "metadata": {},
   "outputs": [],
   "source": [
    "drop_cols = [\"out_prncp\", \"policy_code\", \"acc_now_delinq\", \"num_tl_120dpd_2m\", \"num_tl_30dpd\", \"out_prncp_inv\"]\n",
    "paid_in_full = paid_in_full.drop(columns=drop_cols)"
   ]
  },
  {
   "cell_type": "code",
   "execution_count": 22,
   "metadata": {},
   "outputs": [
    {
     "data": {
      "text/plain": [
       "(62185, 93)"
      ]
     },
     "execution_count": 22,
     "metadata": {},
     "output_type": "execute_result"
    }
   ],
   "source": [
    "paid_in_full.shape"
   ]
  },
  {
   "cell_type": "markdown",
   "metadata": {},
   "source": [
    "## Objective #13\n",
    "<p>Remove `next_pymnt_d` since all loans that are paid off have no next payment date.</p>"
   ]
  },
  {
   "cell_type": "code",
   "execution_count": 23,
   "metadata": {},
   "outputs": [
    {
     "data": {
      "text/plain": [
       "(62185, 92)"
      ]
     },
     "execution_count": 23,
     "metadata": {},
     "output_type": "execute_result"
    }
   ],
   "source": [
    "paid_in_full = paid_in_full.drop(columns=\"next_pymnt_d\")\n",
    "paid_in_full.shape"
   ]
  },
  {
   "cell_type": "markdown",
   "metadata": {},
   "source": [
    "# Sum of Investor Profits\n",
    "<p>Since the average loan on lending club is given to an individual from multiple investors, let's just add an additional column that contains this value. That is, we want to take the `total_pymnt` save the `funded_amnt` to determine the total investor profit.</p>"
   ]
  },
  {
   "cell_type": "code",
   "execution_count": 24,
   "metadata": {},
   "outputs": [],
   "source": [
    "paid_in_full[\"inv_profit\"] = paid_in_full[\"total_pymnt\"] - paid_in_full[\"funded_amnt\"]"
   ]
  },
  {
   "cell_type": "code",
   "execution_count": 25,
   "metadata": {},
   "outputs": [
    {
     "data": {
      "text/plain": [
       "count    62185.000000\n",
       "mean       888.710558\n",
       "std       1019.627722\n",
       "min          0.000000\n",
       "25%        212.200000\n",
       "50%        545.670875\n",
       "75%       1183.938903\n",
       "max      11653.389338\n",
       "Name: inv_profit, dtype: float64"
      ]
     },
     "execution_count": 25,
     "metadata": {},
     "output_type": "execute_result"
    }
   ],
   "source": [
    "paid_in_full[\"inv_profit\"].describe()"
   ]
  },
  {
   "cell_type": "markdown",
   "metadata": {},
   "source": [
    "## Which grade loans perform the best, i.e. yield the most profit? Which sub grade loans perform the best?"
   ]
  },
  {
   "cell_type": "code",
   "execution_count": 26,
   "metadata": {
    "scrolled": false
   },
   "outputs": [
    {
     "data": {
      "image/png": "[encoded data removed]",
      "text/plain": [
       "<Figure size 432x288 with 1 Axes>"
      ]
     },
     "metadata": {
      "needs_background": "light"
     },
     "output_type": "display_data"
    },
    {
     "data": {
      "image/png": "[encoded data removed]",
      "text/plain": [
       "<Figure size 432x288 with 1 Axes>"
      ]
     },
     "metadata": {
      "needs_background": "light"
     },
     "output_type": "display_data"
    }
   ],
   "source": [
    "def bar_plot_by_subgrade(df, grade):\n",
    "    fig, ax = plt.subplots()\n",
    "    sub_grades = [sg for sg in df[\"sub_grade\"].unique() if grade.upper() in sg]\n",
    "    sgrade_positions = np.arange( len(sub_grades) ) + .75\n",
    "    tick_positions = range(1, len(sub_grades) + 1)\n",
    "    \n",
    "    sgrade_widths = []\n",
    "    for sgr in sub_grades:\n",
    "        sgrade = df.loc[df[\"sub_grade\"] == sgr, \"inv_profit\"]\n",
    "        sgrade_mean = sgrade.mean()\n",
    "        sgrade_widths.append( int(sgrade_mean) )\n",
    "        \n",
    "    ax.barh(sgrade_positions, sgrade_widths, 0.5)\n",
    "    ax.set_yticks(tick_positions)\n",
    "    ax.set_yticklabels(sub_grades)\n",
    "    ax.set_ylabel(\"Sub Grade\")\n",
    "    ax.set_xlabel(\"Mean Profit, $\")\n",
    "    ax.set_title(f\"Mean Profit vs. Sub Grades of ({grade})\")\n",
    "    \n",
    "    plt.show()\n",
    "\n",
    "\n",
    "def bar_plot_by_grade(df):\n",
    "    fig, ax = plt.subplots()\n",
    "    grades = list(sorted(df[\"grade\"].unique()))\n",
    "    grade_positions = np.arange( len(grades) ) + .75\n",
    "    tick_positions = range(1, len(grades) + 1)\n",
    "\n",
    "    grade_widths = []\n",
    "    for gr in grades:\n",
    "        grade = df.loc[df[\"grade\"] == gr, \"inv_profit\"]\n",
    "        grade_mean = grade.mean()\n",
    "        grade_widths.append( int(grade_mean) )\n",
    "\n",
    "    \n",
    "    ax.barh(grade_positions, grade_widths, 0.5)\n",
    "    ax.set_yticks(tick_positions)\n",
    "    ax.set_yticklabels(grades)\n",
    "    ax.set_ylabel(\"Grade\")\n",
    "    ax.set_xlabel(\"Mean Profit, $\")\n",
    "    ax.set_title(\"Mean Profit vs Grades\")\n",
    "    \n",
    "    plt.show()\n",
    "\n",
    "bar_plot_by_grade(paid_in_full)\n",
    "bar_plot_by_subgrade(paid_in_full, \"a\")\n",
    "# for grade in paid_in_full[\"grade\"].unique():\n",
    "#     bar_plot_by_subgrade(paid_in_full, grade)"
   ]
  },
  {
   "cell_type": "markdown",
   "metadata": {},
   "source": [
    "## Observances\n",
    "<p>The above shows that the average profit obtained increased the lower the grade on the loan, which was expected since the interest rate of lower quality loans tend to be higher. From a surface level inspection, this looks as if loans of lower quality perform better, but we have to keep in mind that these are the loans that are paid off. Some questions to consider:</p>\n",
    "<ul>\n",
    "    <li>What ratio of paid in full loans belong to each category?</li>\n",
    "    <li>Which category of loans has the highest expected value?</li>\n",
    "</ul>\n",
    "<p>Observing the profits across sub grade also informs us that each sub grade performs relatively the same, therefore adjusting your investments for sub grade quality will not yield significant changes.</p>"
   ]
  },
  {
   "cell_type": "markdown",
   "metadata": {},
   "source": [
    "### Calculating the expected value of loans by grade"
   ]
  },
  {
   "cell_type": "code",
   "execution_count": 27,
   "metadata": {},
   "outputs": [],
   "source": [
    "mean_grade_profit = []\n",
    "\n",
    "grades = sorted(paid_in_full[\"grade\"].unique())\n",
    "for gr in grades:\n",
    "    # Grab every row for each grade and observe the mean investment profit\n",
    "    grade = paid_in_full.loc[paid_in_full[\"grade\"] == gr, \"inv_profit\"]\n",
    "    grade_mean = grade.mean()\n",
    "    mean_grade_profit.append( int(grade_mean) )\n",
    "    \n",
    "mean_grade_profit = pd.Series(mean_grade_profit, index=grades)\n",
    "\n",
    "# print(paid_in_full[\"grade\"].value_counts(normalize=True))\n",
    "# ev_loan_grade = paid_in_full[\"grade\"].value_counts(normalize=True) * mean_grade_profit\n",
    "# best_loan_class = ev_loan_grade.idxmax()\n",
    "\n",
    "# print(\n",
    "#     f\"The grade that peforms the best, in expectation, are the class of loans {best_loan_class}.\\n\",\n",
    "#     ev_loan_grade,\n",
    "#     sep='\\n'\n",
    "# )"
   ]
  },
  {
   "cell_type": "code",
   "execution_count": 28,
   "metadata": {},
   "outputs": [
    {
     "data": {
      "text/plain": [
       "A     472\n",
       "B     755\n",
       "C    1035\n",
       "D    1319\n",
       "E    1638\n",
       "F    2390\n",
       "G    2713\n",
       "dtype: int64"
      ]
     },
     "execution_count": 28,
     "metadata": {},
     "output_type": "execute_result"
    }
   ],
   "source": [
    "mean_grade_profit"
   ]
  },
  {
   "cell_type": "code",
   "execution_count": 29,
   "metadata": {},
   "outputs": [
    {
     "data": {
      "text/plain": [
       "888.1869421886306"
      ]
     },
     "execution_count": 29,
     "metadata": {},
     "output_type": "execute_result"
    }
   ],
   "source": [
    "(paid_in_full[\"grade\"].value_counts(normalize=True).sort_index() * mean_grade_profit).sum()"
   ]
  },
  {
   "cell_type": "code",
   "execution_count": 30,
   "metadata": {},
   "outputs": [
    {
     "data": {
      "text/plain": [
       "(62185,)"
      ]
     },
     "execution_count": 30,
     "metadata": {},
     "output_type": "execute_result"
    }
   ],
   "source": [
    "paid_in_full[\"inv_profit\"].shape"
   ]
  },
  {
   "cell_type": "markdown",
   "metadata": {},
   "source": [
    "## Let's do a quick recap\n",
    "Thus far, we have imported our data, cleaned up a few columns, and removed columns with majority null. Now, let's do some feature selection. We'll play around with the number of features we'd like to keep, but let's start off by keeping the sqrt(ceil(m)) features where m is the number of columns."
   ]
  },
  {
   "cell_type": "markdown",
   "metadata": {},
   "source": [
    "## Feature Selection Time\n",
    "<p>I'm not quite sure what is the best heuristic for the number of features that should be maintained and I'm sure it is situational, but I am going to keep the sqrt(# cols) of features.</p>\n",
    "<p>To do so, I've imported <code>SelectKBest</code> and <code>chi2</code> from the sklearn library to do so.</p>\n",
    "<p>Add a metric for evaluating whether an investment is considered `good` or `bad` based on the ROI.</p>"
   ]
  },
  {
   "cell_type": "code",
   "execution_count": 56,
   "metadata": {},
   "outputs": [],
   "source": [
    "from sklearn.feature_selection import chi2, SelectKBest\n",
    "from sklearn.linear_model import LogisticRegression\n",
    "from sklearn.model_selection import train_test_split"
   ]
  },
  {
   "cell_type": "code",
   "execution_count": 38,
   "metadata": {},
   "outputs": [
    {
     "data": {
      "text/plain": [
       "Index(['loan_amnt', 'funded_amnt', 'funded_amnt_inv', 'term', 'int_rate',\n",
       "       'installment', 'dti', 'delinq_2yrs', 'inq_last_6mths', 'open_acc',\n",
       "       'pub_rec', 'revol_bal', 'total_acc', 'total_pymnt', 'total_pymnt_inv',\n",
       "       'total_rec_prncp', 'total_rec_int', 'total_rec_late_fee', 'recoveries',\n",
       "       'collection_recovery_fee', 'last_pymnt_amnt',\n",
       "       'collections_12_mths_ex_med', 'tot_coll_amt', 'tot_cur_bal',\n",
       "       'open_acc_6m', 'open_act_il', 'open_il_12m', 'open_il_24m',\n",
       "       'mths_since_rcnt_il', 'total_bal_il', 'il_util', 'open_rv_12m',\n",
       "       'open_rv_24m', 'max_bal_bc', 'all_util', 'total_rev_hi_lim', 'inq_fi',\n",
       "       'total_cu_tl', 'inq_last_12m', 'acc_open_past_24mths', 'avg_cur_bal',\n",
       "       'bc_open_to_buy', 'bc_util', 'chargeoff_within_12_mths', 'delinq_amnt',\n",
       "       'mo_sin_old_il_acct', 'mo_sin_old_rev_tl_op', 'mo_sin_rcnt_rev_tl_op',\n",
       "       'mo_sin_rcnt_tl', 'mort_acc', 'mths_since_recent_bc',\n",
       "       'mths_since_recent_inq', 'num_accts_ever_120_pd', 'num_actv_bc_tl',\n",
       "       'num_actv_rev_tl', 'num_bc_sats', 'num_bc_tl', 'num_il_tl',\n",
       "       'num_op_rev_tl', 'num_rev_accts', 'num_rev_tl_bal_gt_0', 'num_sats',\n",
       "       'num_tl_90g_dpd_24m', 'num_tl_op_past_12m', 'pct_tl_nvr_dlq',\n",
       "       'percent_bc_gt_75', 'pub_rec_bankruptcies', 'tax_liens',\n",
       "       'tot_hi_cred_lim', 'total_bal_ex_mort', 'total_bc_limit',\n",
       "       'total_il_high_credit_limit', 'inv_profit', 'good_inv'],\n",
       "      dtype='object')"
      ]
     },
     "execution_count": 38,
     "metadata": {},
     "output_type": "execute_result"
    }
   ],
   "source": [
    "pif_numeric.columns"
   ]
  },
  {
   "cell_type": "code",
   "execution_count": 92,
   "metadata": {},
   "outputs": [
    {
     "name": "stderr",
     "output_type": "stream",
     "text": [
      "/anaconda3/lib/python3.7/site-packages/ipykernel_launcher.py:6: SettingWithCopyWarning: \n",
      "A value is trying to be set on a copy of a slice from a DataFrame.\n",
      "Try using .loc[row_indexer,col_indexer] = value instead\n",
      "\n",
      "See the caveats in the documentation: http://pandas.pydata.org/pandas-docs/stable/indexing.html#indexing-view-versus-copy\n",
      "  \n"
     ]
    },
    {
     "data": {
      "text/plain": [
       "False    33404\n",
       "True     28781\n",
       "Name: good_inv, dtype: int64"
      ]
     },
     "execution_count": 92,
     "metadata": {},
     "output_type": "execute_result"
    }
   ],
   "source": [
    "pif_numeric = paid_in_full.select_dtypes(include=[\"float64\", \"int64\"])\n",
    "# ROI series\n",
    "roi_pcnt = (pif_numeric[\"total_pymnt\"] - pif_numeric[\"loan_amnt\"]) / pif_numeric[\"loan_amnt\"]\n",
    "# is_good_inv = .09 # Triple the average rate of inflation\n",
    "is_good_inv = .055\n",
    "pif_numeric[\"good_inv\"] = roi_pcnt > is_good_inv\n",
    "pif_numeric[\"good_inv\"].value_counts()"
   ]
  },
  {
   "cell_type": "code",
   "execution_count": 93,
   "metadata": {},
   "outputs": [
    {
     "data": {
      "text/plain": [
       "Index(['good_inv'], dtype='object')"
      ]
     },
     "execution_count": 93,
     "metadata": {},
     "output_type": "execute_result"
    }
   ],
   "source": [
    "X = pif_numeric.loc[:, ~pif_numeric.columns.isin([\"good_inv\", \"inv_profit\"])].dropna(axis=1)\n",
    "y = pif_numeric.loc[:, pif_numeric.columns == \"good_inv\"].astype(int)\n",
    "y.columns"
   ]
  },
  {
   "cell_type": "code",
   "execution_count": 94,
   "metadata": {},
   "outputs": [],
   "source": [
    "selector = SelectKBest(chi2, k=int(round(np.sqrt(pif_numeric.shape[1]))))\n",
    "selector.fit(X, y)\n",
    "kbest_features = selector.get_support(indices=True)"
   ]
  },
  {
   "cell_type": "code",
   "execution_count": 95,
   "metadata": {},
   "outputs": [],
   "source": [
    "# Grab k best features\n",
    "X_new = pif_numeric[pif_numeric.columns[kbest_features]]"
   ]
  },
  {
   "cell_type": "code",
   "execution_count": 96,
   "metadata": {},
   "outputs": [
    {
     "name": "stderr",
     "output_type": "stream",
     "text": [
      "/anaconda3/lib/python3.7/site-packages/sklearn/linear_model/logistic.py:433: FutureWarning: Default solver will be changed to 'lbfgs' in 0.22. Specify a solver to silence this warning.\n",
      "  FutureWarning)\n",
      "/anaconda3/lib/python3.7/site-packages/sklearn/utils/validation.py:761: DataConversionWarning: A column-vector y was passed when a 1d array was expected. Please change the shape of y to (n_samples, ), for example using ravel().\n",
      "  y = column_or_1d(y, warn=True)\n"
     ]
    },
    {
     "data": {
      "text/plain": [
       "LogisticRegression(C=1.0, class_weight=None, dual=False, fit_intercept=True,\n",
       "          intercept_scaling=1, max_iter=100, multi_class='warn',\n",
       "          n_jobs=None, penalty='l2', random_state=None, solver='warn',\n",
       "          tol=0.0001, verbose=0, warm_start=False)"
      ]
     },
     "execution_count": 96,
     "metadata": {},
     "output_type": "execute_result"
    }
   ],
   "source": [
    "X_train, X_test, y_train, y_test = train_test_split(X_new, y, test_size=.20)\n",
    "clf = LogisticRegression()\n",
    "clf.fit(X_train, y_train)"
   ]
  },
  {
   "cell_type": "code",
   "execution_count": 103,
   "metadata": {},
   "outputs": [
    {
     "data": {
      "text/plain": [
       "0.9998391895151564"
      ]
     },
     "execution_count": 103,
     "metadata": {},
     "output_type": "execute_result"
    }
   ],
   "source": [
    "clf.score(X_test, y_test)"
   ]
  },
  {
   "cell_type": "code",
   "execution_count": 105,
   "metadata": {},
   "outputs": [
    {
     "data": {
      "text/plain": [
       "Index(['total_acc', 'total_pymnt', 'total_rec_prncp',\n",
       "       'collections_12_mths_ex_med', 'tot_coll_amt', 'open_rv_12m',\n",
       "       'num_bc_tl', 'num_il_tl', 'num_op_rev_tl'],\n",
       "      dtype='object')"
      ]
     },
     "execution_count": 105,
     "metadata": {},
     "output_type": "execute_result"
    }
   ],
   "source": [
    "X_train.columns"
   ]
  },
  {
   "cell_type": "code",
   "execution_count": 108,
   "metadata": {},
   "outputs": [
    {
     "data": {
      "text/html": [
       "<div>\n",
       "<style scoped>\n",
       "    .dataframe tbody tr th:only-of-type {\n",
       "        vertical-align: middle;\n",
       "    }\n",
       "\n",
       "    .dataframe tbody tr th {\n",
       "        vertical-align: top;\n",
       "    }\n",
       "\n",
       "    .dataframe thead th {\n",
       "        text-align: right;\n",
       "    }\n",
       "</style>\n",
       "<table border=\"1\" class=\"dataframe\">\n",
       "  <thead>\n",
       "    <tr style=\"text-align: right;\">\n",
       "      <th></th>\n",
       "      <th>total_acc</th>\n",
       "      <th>total_pymnt</th>\n",
       "      <th>total_rec_prncp</th>\n",
       "      <th>collections_12_mths_ex_med</th>\n",
       "      <th>tot_coll_amt</th>\n",
       "      <th>open_rv_12m</th>\n",
       "      <th>num_bc_tl</th>\n",
       "      <th>num_il_tl</th>\n",
       "      <th>num_op_rev_tl</th>\n",
       "    </tr>\n",
       "  </thead>\n",
       "  <tbody>\n",
       "    <tr>\n",
       "      <th>108957</th>\n",
       "      <td>33.0</td>\n",
       "      <td>39134.452966</td>\n",
       "      <td>38000.0</td>\n",
       "      <td>0.0</td>\n",
       "      <td>0.0</td>\n",
       "      <td>2.0</td>\n",
       "      <td>9.0</td>\n",
       "      <td>23.0</td>\n",
       "      <td>4.0</td>\n",
       "    </tr>\n",
       "    <tr>\n",
       "      <th>100328</th>\n",
       "      <td>20.0</td>\n",
       "      <td>10285.806689</td>\n",
       "      <td>9000.0</td>\n",
       "      <td>0.0</td>\n",
       "      <td>0.0</td>\n",
       "      <td>3.0</td>\n",
       "      <td>9.0</td>\n",
       "      <td>5.0</td>\n",
       "      <td>13.0</td>\n",
       "    </tr>\n",
       "    <tr>\n",
       "      <th>75817</th>\n",
       "      <td>43.0</td>\n",
       "      <td>3067.826242</td>\n",
       "      <td>3000.0</td>\n",
       "      <td>0.0</td>\n",
       "      <td>0.0</td>\n",
       "      <td>1.0</td>\n",
       "      <td>16.0</td>\n",
       "      <td>10.0</td>\n",
       "      <td>12.0</td>\n",
       "    </tr>\n",
       "    <tr>\n",
       "      <th>107372</th>\n",
       "      <td>24.0</td>\n",
       "      <td>30722.395218</td>\n",
       "      <td>30300.0</td>\n",
       "      <td>0.0</td>\n",
       "      <td>0.0</td>\n",
       "      <td>0.0</td>\n",
       "      <td>11.0</td>\n",
       "      <td>6.0</td>\n",
       "      <td>11.0</td>\n",
       "    </tr>\n",
       "    <tr>\n",
       "      <th>59678</th>\n",
       "      <td>8.0</td>\n",
       "      <td>15496.010803</td>\n",
       "      <td>15000.0</td>\n",
       "      <td>0.0</td>\n",
       "      <td>0.0</td>\n",
       "      <td>1.0</td>\n",
       "      <td>4.0</td>\n",
       "      <td>3.0</td>\n",
       "      <td>3.0</td>\n",
       "    </tr>\n",
       "  </tbody>\n",
       "</table>\n",
       "</div>"
      ],
      "text/plain": [
       "        total_acc   total_pymnt  total_rec_prncp  collections_12_mths_ex_med  \\\n",
       "108957       33.0  39134.452966          38000.0                         0.0   \n",
       "100328       20.0  10285.806689           9000.0                         0.0   \n",
       "75817        43.0   3067.826242           3000.0                         0.0   \n",
       "107372       24.0  30722.395218          30300.0                         0.0   \n",
       "59678         8.0  15496.010803          15000.0                         0.0   \n",
       "\n",
       "        tot_coll_amt  open_rv_12m  num_bc_tl  num_il_tl  num_op_rev_tl  \n",
       "108957           0.0          2.0        9.0       23.0            4.0  \n",
       "100328           0.0          3.0        9.0        5.0           13.0  \n",
       "75817            0.0          1.0       16.0       10.0           12.0  \n",
       "107372           0.0          0.0       11.0        6.0           11.0  \n",
       "59678            0.0          1.0        4.0        3.0            3.0  "
      ]
     },
     "execution_count": 108,
     "metadata": {},
     "output_type": "execute_result"
    }
   ],
   "source": [
    "X_train.head()"
   ]
  },
  {
   "cell_type": "code",
   "execution_count": 111,
   "metadata": {},
   "outputs": [
    {
     "data": {
      "text/plain": [
       "array([1])"
      ]
     },
     "execution_count": 111,
     "metadata": {},
     "output_type": "execute_result"
    }
   ],
   "source": [
    "clf.predict([\n",
    "    [33, 4400, 4160, 0, 0, 2, 9, 23, 4]\n",
    "])"
   ]
  },
  {
   "cell_type": "code",
   "execution_count": null,
   "metadata": {},
   "outputs": [],
   "source": []
  }
 ],
 "metadata": {
  "kernelspec": {
   "display_name": "Python 3",
   "language": "python",
   "name": "python3"
  },
  "language_info": {
   "codemirror_mode": {
    "name": "ipython",
    "version": 3
   },
   "file_extension": ".py",
   "mimetype": "text/x-python",
   "name": "python",
   "nbconvert_exporter": "python",
   "pygments_lexer": "ipython3",
   "version": "3.7.3"
  }
 },
 "nbformat": 4,
 "nbformat_minor": 2
}
